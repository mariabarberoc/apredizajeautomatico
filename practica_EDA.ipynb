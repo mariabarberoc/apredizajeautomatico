{
 "cells": [
  {
   "cell_type": "code",
   "execution_count": null,
   "id": "74d519f0",
   "metadata": {
    "vscode": {
     "languageId": "plaintext"
    }
   },
   "outputs": [],
   "source": [
    "#hola holaaaa"
   ]
  },
  {
   "cell_type": "markdown",
   "id": "8c91cfb8",
   "metadata": {},
   "source": [
    "hola soy maria "
   ]
  }
 ],
 "metadata": {
  "language_info": {
   "name": "python"
  }
 },
 "nbformat": 4,
 "nbformat_minor": 5
}
